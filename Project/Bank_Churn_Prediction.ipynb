{
 "cells": [
  {
   "cell_type": "code",
   "execution_count": 1,
   "id": "3cedb527",
   "metadata": {},
   "outputs": [],
   "source": [
    "#import all realated libraries\n",
    "# import libraries for data analysis\n",
    "import numpy as np\n",
    "import pandas as pd\n",
    "\n",
    "# import library for visualization\n",
    "import seaborn as sns\n",
    "import matplotlib.pyplot as plt\n",
    "\n",
    "# import pickle and json file for columns and model file\n",
    "import pickle\n",
    "import json\n",
    "\n",
    "# import warnings for ignore the warnings\n",
    "import warnings \n",
    "warnings.filterwarnings(\"ignore\")\n",
    "\n",
    "# import pandas profiling for making eda report\n",
    "from pandas_profiling import ProfileReport \n",
    "\n",
    "# library for model selection and models\n",
    "from sklearn.model_selection import train_test_split\n",
    "from sklearn.linear_model import LogisticRegression\n",
    "from sklearn.neighbors import KNeighborsClassifier\n",
    "from sklearn.tree import DecisionTreeClassifier\n",
    "from sklearn.ensemble import RandomForestClassifier\n",
    "from sklearn.ensemble import AdaBoostClassifier\n",
    "from xgboost import XGBClassifier\n",
    "from sklearn.svm import SVC\n",
    "\n",
    "# impory library for scaling purpose\n",
    "from sklearn.preprocessing import StandardScaler\n",
    "\n",
    "# evaluation metrics for classification model\n",
    "from sklearn.metrics import accuracy_score,classification_report,confusion_matrix\n",
    "\n",
    "# import libraries for feature selection\n",
    "from statsmodels.stats.outliers_influence import variance_inflation_factor\n",
    "from sklearn.feature_selection import mutual_info_classif, chi2, f_classif, VarianceThreshold\n",
    "from skfeature.function.similarity_based import fisher_score\n",
    "\n",
    "# import libraries for balancing the data\n",
    "from imblearn.over_sampling import SMOTE\n",
    "\n",
    "# full display\n",
    "pd.set_option(\"display.max_columns\",None)"
   ]
  },
  {
   "cell_type": "markdown",
   "id": "7cac7c13",
   "metadata": {},
   "source": [
    "## Step-1(Problem statement)"
   ]
  },
  {
   "cell_type": "markdown",
   "id": "df53fa9a",
   "metadata": {},
   "source": [
    "It is the dataset of a U.S. bank customer for getting the information that , this particular customer will leave bank or not."
   ]
  },
  {
   "cell_type": "markdown",
   "id": "1cb0e356",
   "metadata": {},
   "source": [
    "__Independent features/attribute__\n",
    "1. RowNumber\n",
    "2. CustomerId\n",
    "3. Surname\n",
    "4. CreditScore\n",
    "4. Geography\n",
    "5. Gender\n",
    "6. Age\n",
    "7. Tenure\n",
    "8. Balance\n",
    "9. NumOfProducts\n",
    "10. HasCrCard\n",
    "11. IsActiveMember\n",
    "12. EstimatedSalary\n",
    "\n",
    "__Dependent feature/attribute__\n",
    "\n",
    "13. Exited\n",
    "\n",
    "Bases upon independent feature we have to predict the customer will exited or not."
   ]
  },
  {
   "cell_type": "markdown",
   "id": "0ca1e527",
   "metadata": {},
   "source": [
    "## Step-2(Data gathering)"
   ]
  },
  {
   "cell_type": "code",
   "execution_count": 2,
   "id": "047511b8",
   "metadata": {},
   "outputs": [],
   "source": [
    "df = pd.read_csv(\"Churn_Modelling.csv\")"
   ]
  },
  {
   "cell_type": "code",
   "execution_count": 3,
   "id": "97c230f3",
   "metadata": {},
   "outputs": [
    {
     "data": {
      "text/html": [
       "<div>\n",
       "<style scoped>\n",
       "    .dataframe tbody tr th:only-of-type {\n",
       "        vertical-align: middle;\n",
       "    }\n",
       "\n",
       "    .dataframe tbody tr th {\n",
       "        vertical-align: top;\n",
       "    }\n",
       "\n",
       "    .dataframe thead th {\n",
       "        text-align: right;\n",
       "    }\n",
       "</style>\n",
       "<table border=\"1\" class=\"dataframe\">\n",
       "  <thead>\n",
       "    <tr style=\"text-align: right;\">\n",
       "      <th></th>\n",
       "      <th>RowNumber</th>\n",
       "      <th>CustomerId</th>\n",
       "      <th>Surname</th>\n",
       "      <th>CreditScore</th>\n",
       "      <th>Geography</th>\n",
       "      <th>Gender</th>\n",
       "      <th>Age</th>\n",
       "      <th>Tenure</th>\n",
       "      <th>Balance</th>\n",
       "      <th>NumOfProducts</th>\n",
       "      <th>HasCrCard</th>\n",
       "      <th>IsActiveMember</th>\n",
       "      <th>EstimatedSalary</th>\n",
       "      <th>Exited</th>\n",
       "    </tr>\n",
       "  </thead>\n",
       "  <tbody>\n",
       "    <tr>\n",
       "      <th>2329</th>\n",
       "      <td>2330</td>\n",
       "      <td>15639415</td>\n",
       "      <td>Thompson</td>\n",
       "      <td>850</td>\n",
       "      <td>France</td>\n",
       "      <td>Male</td>\n",
       "      <td>35</td>\n",
       "      <td>3</td>\n",
       "      <td>162442.35</td>\n",
       "      <td>1</td>\n",
       "      <td>1</td>\n",
       "      <td>0</td>\n",
       "      <td>183566.78</td>\n",
       "      <td>0</td>\n",
       "    </tr>\n",
       "    <tr>\n",
       "      <th>650</th>\n",
       "      <td>651</td>\n",
       "      <td>15730447</td>\n",
       "      <td>Anderson</td>\n",
       "      <td>629</td>\n",
       "      <td>France</td>\n",
       "      <td>Female</td>\n",
       "      <td>49</td>\n",
       "      <td>4</td>\n",
       "      <td>0.00</td>\n",
       "      <td>2</td>\n",
       "      <td>1</td>\n",
       "      <td>1</td>\n",
       "      <td>196335.48</td>\n",
       "      <td>0</td>\n",
       "    </tr>\n",
       "    <tr>\n",
       "      <th>6294</th>\n",
       "      <td>6295</td>\n",
       "      <td>15742824</td>\n",
       "      <td>Isayeva</td>\n",
       "      <td>696</td>\n",
       "      <td>Germany</td>\n",
       "      <td>Male</td>\n",
       "      <td>42</td>\n",
       "      <td>7</td>\n",
       "      <td>162318.61</td>\n",
       "      <td>1</td>\n",
       "      <td>1</td>\n",
       "      <td>0</td>\n",
       "      <td>121061.89</td>\n",
       "      <td>0</td>\n",
       "    </tr>\n",
       "    <tr>\n",
       "      <th>4534</th>\n",
       "      <td>4535</td>\n",
       "      <td>15629475</td>\n",
       "      <td>Clark</td>\n",
       "      <td>656</td>\n",
       "      <td>France</td>\n",
       "      <td>Male</td>\n",
       "      <td>41</td>\n",
       "      <td>2</td>\n",
       "      <td>0.00</td>\n",
       "      <td>2</td>\n",
       "      <td>1</td>\n",
       "      <td>0</td>\n",
       "      <td>158973.77</td>\n",
       "      <td>0</td>\n",
       "    </tr>\n",
       "    <tr>\n",
       "      <th>2046</th>\n",
       "      <td>2047</td>\n",
       "      <td>15733429</td>\n",
       "      <td>Chou</td>\n",
       "      <td>520</td>\n",
       "      <td>Germany</td>\n",
       "      <td>Male</td>\n",
       "      <td>34</td>\n",
       "      <td>8</td>\n",
       "      <td>120018.86</td>\n",
       "      <td>2</td>\n",
       "      <td>1</td>\n",
       "      <td>1</td>\n",
       "      <td>343.38</td>\n",
       "      <td>0</td>\n",
       "    </tr>\n",
       "  </tbody>\n",
       "</table>\n",
       "</div>"
      ],
      "text/plain": [
       "      RowNumber  CustomerId   Surname  CreditScore Geography  Gender  Age  \\\n",
       "2329       2330    15639415  Thompson          850    France    Male   35   \n",
       "650         651    15730447  Anderson          629    France  Female   49   \n",
       "6294       6295    15742824   Isayeva          696   Germany    Male   42   \n",
       "4534       4535    15629475     Clark          656    France    Male   41   \n",
       "2046       2047    15733429      Chou          520   Germany    Male   34   \n",
       "\n",
       "      Tenure    Balance  NumOfProducts  HasCrCard  IsActiveMember  \\\n",
       "2329       3  162442.35              1          1               0   \n",
       "650        4       0.00              2          1               1   \n",
       "6294       7  162318.61              1          1               0   \n",
       "4534       2       0.00              2          1               0   \n",
       "2046       8  120018.86              2          1               1   \n",
       "\n",
       "      EstimatedSalary  Exited  \n",
       "2329        183566.78       0  \n",
       "650         196335.48       0  \n",
       "6294        121061.89       0  \n",
       "4534        158973.77       0  \n",
       "2046           343.38       0  "
      ]
     },
     "execution_count": 3,
     "metadata": {},
     "output_type": "execute_result"
    }
   ],
   "source": [
    "df.sample(5) # check randomly 5 rows from the dataset"
   ]
  },
  {
   "cell_type": "code",
   "execution_count": 4,
   "id": "26a6c85c",
   "metadata": {},
   "outputs": [],
   "source": [
    "# make backup of data\n",
    "df1 = df.copy()"
   ]
  },
  {
   "cell_type": "markdown",
   "id": "4bec08e0",
   "metadata": {},
   "source": [
    "## Step-3(__EDA or Data validation__)"
   ]
  },
  {
   "cell_type": "markdown",
   "id": "5735535f",
   "metadata": {},
   "source": [
    "Here we will check the null values dublicated rows and correlation of columns to each other by using three method\n",
    "1. Univariate analysis(we check one by one column)\n",
    "2. Bivariate analysis(we check here correlation between two column)\n",
    "3. Multivariate analysis( we check here the correlation of Independet feature from Dependent feature)"
   ]
  },
  {
   "cell_type": "markdown",
   "id": "68635325",
   "metadata": {},
   "source": [
    "### Univariate analysis"
   ]
  },
  {
   "cell_type": "code",
   "execution_count": 5,
   "id": "59c25fb9",
   "metadata": {},
   "outputs": [
    {
     "name": "stdout",
     "output_type": "stream",
     "text": [
      "<class 'pandas.core.frame.DataFrame'>\n",
      "RangeIndex: 10000 entries, 0 to 9999\n",
      "Data columns (total 14 columns):\n",
      " #   Column           Non-Null Count  Dtype  \n",
      "---  ------           --------------  -----  \n",
      " 0   RowNumber        10000 non-null  int64  \n",
      " 1   CustomerId       10000 non-null  int64  \n",
      " 2   Surname          10000 non-null  object \n",
      " 3   CreditScore      10000 non-null  int64  \n",
      " 4   Geography        10000 non-null  object \n",
      " 5   Gender           10000 non-null  object \n",
      " 6   Age              10000 non-null  int64  \n",
      " 7   Tenure           10000 non-null  int64  \n",
      " 8   Balance          10000 non-null  float64\n",
      " 9   NumOfProducts    10000 non-null  int64  \n",
      " 10  HasCrCard        10000 non-null  int64  \n",
      " 11  IsActiveMember   10000 non-null  int64  \n",
      " 12  EstimatedSalary  10000 non-null  float64\n",
      " 13  Exited           10000 non-null  int64  \n",
      "dtypes: float64(2), int64(9), object(3)\n",
      "memory usage: 1.1+ MB\n"
     ]
    }
   ],
   "source": [
    "df1.info() # we take thge information about data typoe of features and null values."
   ]
  },
  {
   "cell_type": "code",
   "execution_count": 6,
   "id": "a406535b",
   "metadata": {},
   "outputs": [],
   "source": [
    "df_stat = df1.select_dtypes(exclude = \"object\") # here we remove the object data type column and store into new data frame"
   ]
  },
  {
   "cell_type": "code",
   "execution_count": 7,
   "id": "61f11a13",
   "metadata": {},
   "outputs": [
    {
     "data": {
      "text/html": [
       "<div>\n",
       "<style scoped>\n",
       "    .dataframe tbody tr th:only-of-type {\n",
       "        vertical-align: middle;\n",
       "    }\n",
       "\n",
       "    .dataframe tbody tr th {\n",
       "        vertical-align: top;\n",
       "    }\n",
       "\n",
       "    .dataframe thead th {\n",
       "        text-align: right;\n",
       "    }\n",
       "</style>\n",
       "<table border=\"1\" class=\"dataframe\">\n",
       "  <thead>\n",
       "    <tr style=\"text-align: right;\">\n",
       "      <th></th>\n",
       "      <th>RowNumber</th>\n",
       "      <th>CustomerId</th>\n",
       "      <th>CreditScore</th>\n",
       "      <th>Age</th>\n",
       "      <th>Tenure</th>\n",
       "      <th>Balance</th>\n",
       "      <th>NumOfProducts</th>\n",
       "      <th>HasCrCard</th>\n",
       "      <th>IsActiveMember</th>\n",
       "      <th>EstimatedSalary</th>\n",
       "      <th>Exited</th>\n",
       "    </tr>\n",
       "  </thead>\n",
       "  <tbody>\n",
       "    <tr>\n",
       "      <th>count</th>\n",
       "      <td>10000.00000</td>\n",
       "      <td>1.000000e+04</td>\n",
       "      <td>10000.000000</td>\n",
       "      <td>10000.000000</td>\n",
       "      <td>10000.000000</td>\n",
       "      <td>10000.000000</td>\n",
       "      <td>10000.000000</td>\n",
       "      <td>10000.00000</td>\n",
       "      <td>10000.000000</td>\n",
       "      <td>10000.000000</td>\n",
       "      <td>10000.000000</td>\n",
       "    </tr>\n",
       "    <tr>\n",
       "      <th>mean</th>\n",
       "      <td>5000.50000</td>\n",
       "      <td>1.569094e+07</td>\n",
       "      <td>650.528800</td>\n",
       "      <td>38.921800</td>\n",
       "      <td>5.012800</td>\n",
       "      <td>76485.889288</td>\n",
       "      <td>1.530200</td>\n",
       "      <td>0.70550</td>\n",
       "      <td>0.515100</td>\n",
       "      <td>100090.239881</td>\n",
       "      <td>0.203700</td>\n",
       "    </tr>\n",
       "    <tr>\n",
       "      <th>std</th>\n",
       "      <td>2886.89568</td>\n",
       "      <td>7.193619e+04</td>\n",
       "      <td>96.653299</td>\n",
       "      <td>10.487806</td>\n",
       "      <td>2.892174</td>\n",
       "      <td>62397.405202</td>\n",
       "      <td>0.581654</td>\n",
       "      <td>0.45584</td>\n",
       "      <td>0.499797</td>\n",
       "      <td>57510.492818</td>\n",
       "      <td>0.402769</td>\n",
       "    </tr>\n",
       "    <tr>\n",
       "      <th>min</th>\n",
       "      <td>1.00000</td>\n",
       "      <td>1.556570e+07</td>\n",
       "      <td>350.000000</td>\n",
       "      <td>18.000000</td>\n",
       "      <td>0.000000</td>\n",
       "      <td>0.000000</td>\n",
       "      <td>1.000000</td>\n",
       "      <td>0.00000</td>\n",
       "      <td>0.000000</td>\n",
       "      <td>11.580000</td>\n",
       "      <td>0.000000</td>\n",
       "    </tr>\n",
       "    <tr>\n",
       "      <th>25%</th>\n",
       "      <td>2500.75000</td>\n",
       "      <td>1.562853e+07</td>\n",
       "      <td>584.000000</td>\n",
       "      <td>32.000000</td>\n",
       "      <td>3.000000</td>\n",
       "      <td>0.000000</td>\n",
       "      <td>1.000000</td>\n",
       "      <td>0.00000</td>\n",
       "      <td>0.000000</td>\n",
       "      <td>51002.110000</td>\n",
       "      <td>0.000000</td>\n",
       "    </tr>\n",
       "    <tr>\n",
       "      <th>50%</th>\n",
       "      <td>5000.50000</td>\n",
       "      <td>1.569074e+07</td>\n",
       "      <td>652.000000</td>\n",
       "      <td>37.000000</td>\n",
       "      <td>5.000000</td>\n",
       "      <td>97198.540000</td>\n",
       "      <td>1.000000</td>\n",
       "      <td>1.00000</td>\n",
       "      <td>1.000000</td>\n",
       "      <td>100193.915000</td>\n",
       "      <td>0.000000</td>\n",
       "    </tr>\n",
       "    <tr>\n",
       "      <th>75%</th>\n",
       "      <td>7500.25000</td>\n",
       "      <td>1.575323e+07</td>\n",
       "      <td>718.000000</td>\n",
       "      <td>44.000000</td>\n",
       "      <td>7.000000</td>\n",
       "      <td>127644.240000</td>\n",
       "      <td>2.000000</td>\n",
       "      <td>1.00000</td>\n",
       "      <td>1.000000</td>\n",
       "      <td>149388.247500</td>\n",
       "      <td>0.000000</td>\n",
       "    </tr>\n",
       "    <tr>\n",
       "      <th>max</th>\n",
       "      <td>10000.00000</td>\n",
       "      <td>1.581569e+07</td>\n",
       "      <td>850.000000</td>\n",
       "      <td>92.000000</td>\n",
       "      <td>10.000000</td>\n",
       "      <td>250898.090000</td>\n",
       "      <td>4.000000</td>\n",
       "      <td>1.00000</td>\n",
       "      <td>1.000000</td>\n",
       "      <td>199992.480000</td>\n",
       "      <td>1.000000</td>\n",
       "    </tr>\n",
       "  </tbody>\n",
       "</table>\n",
       "</div>"
      ],
      "text/plain": [
       "         RowNumber    CustomerId   CreditScore           Age        Tenure  \\\n",
       "count  10000.00000  1.000000e+04  10000.000000  10000.000000  10000.000000   \n",
       "mean    5000.50000  1.569094e+07    650.528800     38.921800      5.012800   \n",
       "std     2886.89568  7.193619e+04     96.653299     10.487806      2.892174   \n",
       "min        1.00000  1.556570e+07    350.000000     18.000000      0.000000   \n",
       "25%     2500.75000  1.562853e+07    584.000000     32.000000      3.000000   \n",
       "50%     5000.50000  1.569074e+07    652.000000     37.000000      5.000000   \n",
       "75%     7500.25000  1.575323e+07    718.000000     44.000000      7.000000   \n",
       "max    10000.00000  1.581569e+07    850.000000     92.000000     10.000000   \n",
       "\n",
       "             Balance  NumOfProducts    HasCrCard  IsActiveMember  \\\n",
       "count   10000.000000   10000.000000  10000.00000    10000.000000   \n",
       "mean    76485.889288       1.530200      0.70550        0.515100   \n",
       "std     62397.405202       0.581654      0.45584        0.499797   \n",
       "min         0.000000       1.000000      0.00000        0.000000   \n",
       "25%         0.000000       1.000000      0.00000        0.000000   \n",
       "50%     97198.540000       1.000000      1.00000        1.000000   \n",
       "75%    127644.240000       2.000000      1.00000        1.000000   \n",
       "max    250898.090000       4.000000      1.00000        1.000000   \n",
       "\n",
       "       EstimatedSalary        Exited  \n",
       "count     10000.000000  10000.000000  \n",
       "mean     100090.239881      0.203700  \n",
       "std       57510.492818      0.402769  \n",
       "min          11.580000      0.000000  \n",
       "25%       51002.110000      0.000000  \n",
       "50%      100193.915000      0.000000  \n",
       "75%      149388.247500      0.000000  \n",
       "max      199992.480000      1.000000  "
      ]
     },
     "execution_count": 7,
     "metadata": {},
     "output_type": "execute_result"
    }
   ],
   "source": [
    "df_stat.describe() # here we check all the stats of the dataframe"
   ]
  },
  {
   "cell_type": "code",
   "execution_count": 8,
   "id": "6efefc37",
   "metadata": {},
   "outputs": [
    {
     "data": {
      "text/plain": [
       "Index(['RowNumber', 'CustomerId', 'Surname', 'CreditScore', 'Geography',\n",
       "       'Gender', 'Age', 'Tenure', 'Balance', 'NumOfProducts', 'HasCrCard',\n",
       "       'IsActiveMember', 'EstimatedSalary', 'Exited'],\n",
       "      dtype='object')"
      ]
     },
     "execution_count": 8,
     "metadata": {},
     "output_type": "execute_result"
    }
   ],
   "source": [
    "df1.columns"
   ]
  },
  {
   "cell_type": "code",
   "execution_count": 9,
   "id": "5d4ba3cd",
   "metadata": {},
   "outputs": [
    {
     "name": "stdout",
     "output_type": "stream",
     "text": [
      "Unique count of RowNumber is 10000\n",
      "Unique count of CustomerId is 10000\n",
      "Unique count of Surname is 2932\n",
      "Unique count of CreditScore is 460\n",
      "Unique count of Geography is 3\n",
      "Unique count of Gender is 2\n",
      "Unique count of Age is 70\n",
      "Unique count of Tenure is 11\n",
      "Unique count of Balance is 6382\n",
      "Unique count of NumOfProducts is 4\n",
      "Unique count of HasCrCard is 2\n",
      "Unique count of IsActiveMember is 2\n",
      "Unique count of EstimatedSalary is 9999\n",
      "Unique count of Exited is 2\n"
     ]
    }
   ],
   "source": [
    "# we check here the uniques count of every column \n",
    "for col in df1.columns:\n",
    "    c = df1[col].nunique()\n",
    "    print(f\"Unique count of {col} is {c}\")"
   ]
  },
  {
   "cell_type": "code",
   "execution_count": 10,
   "id": "114bdf30",
   "metadata": {},
   "outputs": [
    {
     "data": {
      "text/plain": [
       "RowNumber          0\n",
       "CustomerId         0\n",
       "Surname            0\n",
       "CreditScore        0\n",
       "Geography          0\n",
       "Gender             0\n",
       "Age                0\n",
       "Tenure             0\n",
       "Balance            0\n",
       "NumOfProducts      0\n",
       "HasCrCard          0\n",
       "IsActiveMember     0\n",
       "EstimatedSalary    0\n",
       "Exited             0\n",
       "dtype: int64"
      ]
     },
     "execution_count": 10,
     "metadata": {},
     "output_type": "execute_result"
    }
   ],
   "source": [
    "# we checlk here the null count of every column\n",
    "df1.isnull().sum()"
   ]
  },
  {
   "cell_type": "code",
   "execution_count": 11,
   "id": "77cba5c0",
   "metadata": {},
   "outputs": [
    {
     "data": {
      "text/plain": [
       "0"
      ]
     },
     "execution_count": 11,
     "metadata": {},
     "output_type": "execute_result"
    }
   ],
   "source": [
    "df1.duplicated().sum() # check the duplicated rows"
   ]
  },
  {
   "cell_type": "code",
   "execution_count": 12,
   "id": "b08e49b0",
   "metadata": {},
   "outputs": [
    {
     "data": {
      "text/plain": [
       "Index(['RowNumber', 'CustomerId', 'Surname', 'CreditScore', 'Geography',\n",
       "       'Gender', 'Age', 'Tenure', 'Balance', 'NumOfProducts', 'HasCrCard',\n",
       "       'IsActiveMember', 'EstimatedSalary', 'Exited'],\n",
       "      dtype='object')"
      ]
     },
     "execution_count": 12,
     "metadata": {},
     "output_type": "execute_result"
    }
   ],
   "source": [
    "df1.columns"
   ]
  },
  {
   "cell_type": "code",
   "execution_count": 13,
   "id": "f5cb7708",
   "metadata": {},
   "outputs": [
    {
     "data": {
      "image/png": "[encoded data removed]",
      "text/plain": [
       "<Figure size 1440x432 with 2 Axes>"
      ]
     },
     "metadata": {
      "needs_background": "light"
     },
     "output_type": "display_data"
    },
    {
     "data": {
      "image/png": "[encoded data removed]",
      "text/plain": [
       "<Figure size 1440x432 with 2 Axes>"
      ]
     },
     "metadata": {
      "needs_background": "light"
     },
     "output_type": "display_data"
    },
    {
     "data": {
      "image/png": "[encoded data removed]",
      "text/plain": [
       "<Figure size 1440x432 with 2 Axes>"
      ]
     },
     "metadata": {
      "needs_background": "light"
     },
     "output_type": "display_data"
    },
    {
     "data": {
      "image/png": "[encoded data removed]",
      "text/plain": [
       "<Figure size 1440x432 with 2 Axes>"
      ]
     },
     "metadata": {
      "needs_background": "light"
     },
     "output_type": "display_data"
    }
   ],
   "source": [
    "# here we check the distribution and outliers of continous columns.\n",
    "for col in [\"CreditScore\",\"EstimatedSalary\",\"Age\",\"Balance\"]:\n",
    "    fig,ax=plt.subplots(1,2,figsize=(20,6))\n",
    "    sns.distplot(df1[col],ax=ax[0],color = \"g\")\n",
    "    sns.boxplot(df1[col],ax=ax[1],color = \"g\")\n",
    "    plt.title(col)"
   ]
  },
  {
   "cell_type": "code",
   "execution_count": 14,
   "id": "4a200d40",
   "metadata": {},
   "outputs": [
    {
     "name": "stdout",
     "output_type": "stream",
     "text": [
      "Geography\n",
      "The value count of Geography is \n",
      "France     5014\n",
      "Germany    2509\n",
      "Spain      2477\n",
      "Name: Geography, dtype: int64\n",
      "****************************************************************************************************\n",
      "Gender\n",
      "The value count of Gender is \n",
      "Male      5457\n",
      "Female    4543\n",
      "Name: Gender, dtype: int64\n",
      "****************************************************************************************************\n",
      "Tenure\n",
      "The value count of Tenure is \n",
      "2     1048\n",
      "1     1035\n",
      "7     1028\n",
      "8     1025\n",
      "5     1012\n",
      "3     1009\n",
      "4      989\n",
      "9      984\n",
      "6      967\n",
      "10     490\n",
      "0      413\n",
      "Name: Tenure, dtype: int64\n",
      "****************************************************************************************************\n",
      "NumOfProducts\n",
      "The value count of NumOfProducts is \n",
      "1    5084\n",
      "2    4590\n",
      "3     266\n",
      "4      60\n",
      "Name: NumOfProducts, dtype: int64\n",
      "****************************************************************************************************\n",
      "NumOfProducts\n",
      "The value count of NumOfProducts is \n",
      "1    5084\n",
      "2    4590\n",
      "3     266\n",
      "4      60\n",
      "Name: NumOfProducts, dtype: int64\n",
      "****************************************************************************************************\n",
      "HasCrCard\n",
      "The value count of HasCrCard is \n",
      "1    7055\n",
      "0    2945\n",
      "Name: HasCrCard, dtype: int64\n",
      "****************************************************************************************************\n",
      "IsActiveMember\n",
      "The value count of IsActiveMember is \n",
      "1    5151\n",
      "0    4849\n",
      "Name: IsActiveMember, dtype: int64\n",
      "****************************************************************************************************\n"
     ]
    }
   ],
   "source": [
    "for col in [\"Geography\",\"Gender\",\"Tenure\",\"NumOfProducts\",\"NumOfProducts\",\"HasCrCard\",\"IsActiveMember\"]:\n",
    "    print(col)\n",
    "    print(f\"The value count of {col} is \\n{df1[col].value_counts()}\")\n",
    "    print(\"*\"*100)"
   ]
  },
  {
   "cell_type": "code",
   "execution_count": 15,
   "id": "8be7e35d",
   "metadata": {
    "scrolled": false
   },
   "outputs": [
    {
     "name": "stdout",
     "output_type": "stream",
     "text": [
      "Geography\n",
      "AxesSubplot(0.125,0.125;0.775x0.755)\n"
     ]
    },
    {
     "data": {
      "image/png": "[encoded data removed]",
      "text/plain": [
       "<Figure size 432x288 with 1 Axes>"
      ]
     },
     "metadata": {
      "needs_background": "light"
     },
     "output_type": "display_data"
    },
    {
     "name": "stdout",
     "output_type": "stream",
     "text": [
      "Gender\n",
      "AxesSubplot(0.125,0.125;0.775x0.755)\n"
     ]
    },
    {
     "data": {
      "image/png": "[encoded data removed]",
      "text/plain": [
       "<Figure size 432x288 with 1 Axes>"
      ]
     },
     "metadata": {
      "needs_background": "light"
     },
     "output_type": "display_data"
    },
    {
     "name": "stdout",
     "output_type": "stream",
     "text": [
      "Tenure\n",
      "AxesSubplot(0.125,0.125;0.775x0.755)\n"
     ]
    },
    {
     "data": {
      "image/png": "[encoded data removed]",
      "text/plain": [
       "<Figure size 432x288 with 1 Axes>"
      ]
     },
     "metadata": {
      "needs_background": "light"
     },
     "output_type": "display_data"
    },
    {
     "name": "stdout",
     "output_type": "stream",
     "text": [
      "NumOfProducts\n",
      "AxesSubplot(0.125,0.125;0.775x0.755)\n"
     ]
    },
    {
     "data": {
      "image/png": "[encoded data removed]",
      "text/plain": [
       "<Figure size 432x288 with 1 Axes>"
      ]
     },
     "metadata": {
      "needs_background": "light"
     },
     "output_type": "display_data"
    },
    {
     "name": "stdout",
     "output_type": "stream",
     "text": [
      "NumOfProducts\n",
      "AxesSubplot(0.125,0.125;0.775x0.755)\n"
     ]
    },
    {
     "data": {
      "image/png": "[encoded data removed]",
      "text/plain": [
       "<Figure size 432x288 with 1 Axes>"
      ]
     },
     "metadata": {
      "needs_background": "light"
     },
     "output_type": "display_data"
    },
    {
     "name": "stdout",
     "output_type": "stream",
     "text": [
      "HasCrCard\n",
      "AxesSubplot(0.125,0.125;0.775x0.755)\n"
     ]
    },
    {
     "data": {
      "image/png": "[encoded data removed]",
      "text/plain": [
       "<Figure size 432x288 with 1 Axes>"
      ]
     },
     "metadata": {
      "needs_background": "light"
     },
     "output_type": "display_data"
    },
    {
     "name": "stdout",
     "output_type": "stream",
     "text": [
      "IsActiveMember\n",
      "AxesSubplot(0.125,0.125;0.775x0.755)\n"
     ]
    },
    {
     "data": {
      "image/png": "[encoded data removed]",
      "text/plain": [
       "<Figure size 432x288 with 1 Axes>"
      ]
     },
     "metadata": {
      "needs_background": "light"
     },
     "output_type": "display_data"
    }
   ],
   "source": [
    "# count of catgorical columns\n",
    "for col in [\"Geography\",\"Gender\",\"Tenure\",\"NumOfProducts\",\"NumOfProducts\",\"HasCrCard\",\"IsActiveMember\"]:\n",
    "    print(col)\n",
    "    print(df1[col].value_counts().plot(kind = \"bar\"))\n",
    "    plt.show()"
   ]
  },
  {
   "cell_type": "code",
   "execution_count": 16,
   "id": "3d3a989e",
   "metadata": {},
   "outputs": [
    {
     "data": {
      "text/plain": [
       "Index(['RowNumber', 'CustomerId', 'Surname', 'CreditScore', 'Geography',\n",
       "       'Gender', 'Age', 'Tenure', 'Balance', 'NumOfProducts', 'HasCrCard',\n",
       "       'IsActiveMember', 'EstimatedSalary', 'Exited'],\n",
       "      dtype='object')"
      ]
     },
     "execution_count": 16,
     "metadata": {},
     "output_type": "execute_result"
    }
   ],
   "source": [
    "df1.columns"
   ]
  },
  {
   "cell_type": "markdown",
   "id": "d0addc50",
   "metadata": {},
   "source": [
    "### Bivariate analysis"
   ]
  },
  {
   "cell_type": "code",
   "execution_count": 17,
   "id": "464e00b0",
   "metadata": {},
   "outputs": [
    {
     "data": {
      "text/plain": [
       "Gender\n",
       "Female    850\n",
       "Male      850\n",
       "Name: CreditScore, dtype: int64"
      ]
     },
     "execution_count": 17,
     "metadata": {},
     "output_type": "execute_result"
    }
   ],
   "source": [
    "# max credit score for both of the gender\n",
    "df1.groupby(\"Gender\")[\"CreditScore\"].max()"
   ]
  },
  {
   "cell_type": "code",
   "execution_count": 18,
   "id": "6dd38fcb",
   "metadata": {},
   "outputs": [
    {
     "data": {
      "text/plain": [
       "Gender  HasCrCard\n",
       "Female  0            1351\n",
       "        1            3192\n",
       "Male    0            1594\n",
       "        1            3863\n",
       "Name: HasCrCard, dtype: int64"
      ]
     },
     "execution_count": 18,
     "metadata": {},
     "output_type": "execute_result"
    }
   ],
   "source": [
    "# how many people have credit card or not gender wise\n",
    "df1.groupby([\"Gender\",\"HasCrCard\"])[\"HasCrCard\"].count()"
   ]
  },
  {
   "cell_type": "code",
   "execution_count": 19,
   "id": "218ddff7",
   "metadata": {},
   "outputs": [
    {
     "data": {
      "image/png": "[encoded data removed]",
      "text/plain": [
       "<Figure size 432x288 with 1 Axes>"
      ]
     },
     "metadata": {
      "needs_background": "light"
     },
     "output_type": "display_data"
    }
   ],
   "source": [
    "df1.groupby([\"Gender\",\"HasCrCard\"])[\"HasCrCard\"].count().plot(kind = \"bar\")# showing by graph\n",
    "plt.show()"
   ]
  },
  {
   "cell_type": "code",
   "execution_count": 20,
   "id": "2b8a483f",
   "metadata": {},
   "outputs": [
    {
     "data": {
      "text/plain": [
       "0    7963\n",
       "1    2037\n",
       "Name: Exited, dtype: int64"
      ]
     },
     "execution_count": 20,
     "metadata": {},
     "output_type": "execute_result"
    }
   ],
   "source": [
    "df1[\"Exited\"].value_counts() # check balance of target column"
   ]
  },
  {
   "cell_type": "code",
   "execution_count": 21,
   "id": "30b4b000",
   "metadata": {},
   "outputs": [
    {
     "data": {
      "text/plain": [
       "0.7963"
      ]
     },
     "execution_count": 21,
     "metadata": {},
     "output_type": "execute_result"
    }
   ],
   "source": [
    "7963/(7963+2037)  # 79% data is from 0 class "
   ]
  },
  {
   "cell_type": "code",
   "execution_count": 22,
   "id": "3d1060a8",
   "metadata": {},
   "outputs": [
    {
     "data": {
      "text/plain": [
       "0.2037"
      ]
     },
     "execution_count": 22,
     "metadata": {},
     "output_type": "execute_result"
    }
   ],
   "source": [
    "2037/(7963+2037) # 20% data is from 1 class"
   ]
  },
  {
   "cell_type": "code",
   "execution_count": 23,
   "id": "cbd00a82",
   "metadata": {},
   "outputs": [
    {
     "data": {
      "text/plain": [
       "<seaborn.axisgrid.FacetGrid at 0x2c2b8cab070>"
      ]
     },
     "execution_count": 23,
     "metadata": {},
     "output_type": "execute_result"
    },
    {
     "data": {
      "image/png": "[encoded data removed]",
      "text/plain": [
       "<Figure size 360x360 with 1 Axes>"
      ]
     },
     "metadata": {
      "needs_background": "light"
     },
     "output_type": "display_data"
    },
    {
     "data": {
      "image/png": "[encoded data removed]",
      "text/plain": [
       "<Figure size 360x360 with 1 Axes>"
      ]
     },
     "metadata": {
      "needs_background": "light"
     },
     "output_type": "display_data"
    }
   ],
   "source": [
    "sns.catplot(x = \"Gender\" , y = \"CreditScore\",data = df1 ,ax = ax[0],color = \"r\")\n",
    "sns.catplot(x = \"HasCrCard\",y = \"Age\", data = df1, ax= ax[1])"
   ]
  },
  {
   "cell_type": "code",
   "execution_count": 24,
   "id": "b68977b2",
   "metadata": {},
   "outputs": [
    {
     "data": {
      "image/png": "[encoded data removed]",
      "text/plain": [
       "<Figure size 720x360 with 1 Axes>"
      ]
     },
     "metadata": {
      "needs_background": "light"
     },
     "output_type": "display_data"
    }
   ],
   "source": [
    "# we have seen here in which country maximum pepole exited\n",
    "plt.figure(figsize = (10,5))\n",
    "sns.countplot(data = df1 ,x = \"Geography\",hue = \"Exited\" )\n",
    "plt.show()"
   ]
  },
  {
   "cell_type": "markdown",
   "id": "5e276894",
   "metadata": {},
   "source": [
    "## Step-4 (Feature engineering)"
   ]
  },
  {
   "cell_type": "markdown",
   "id": "6a95fc47",
   "metadata": {},
   "source": [
    "In this step we will handle the missing value and handling the outliers and change the object into numerical."
   ]
  },
  {
   "cell_type": "markdown",
   "id": "65957348",
   "metadata": {},
   "source": [
    "But in here we see that there is NO required of handling outliers beacuse it is real data and credit score and age can be happend at this range we will have to scaling."
   ]
  },
  {
   "cell_type": "code",
   "execution_count": 25,
   "id": "99398b6f",
   "metadata": {},
   "outputs": [
    {
     "data": {
      "text/html": [
       "<div>\n",
       "<style scoped>\n",
       "    .dataframe tbody tr th:only-of-type {\n",
       "        vertical-align: middle;\n",
       "    }\n",
       "\n",
       "    .dataframe tbody tr th {\n",
       "        vertical-align: top;\n",
       "    }\n",
       "\n",
       "    .dataframe thead th {\n",
       "        text-align: right;\n",
       "    }\n",
       "</style>\n",
       "<table border=\"1\" class=\"dataframe\">\n",
       "  <thead>\n",
       "    <tr style=\"text-align: right;\">\n",
       "      <th></th>\n",
       "      <th>RowNumber</th>\n",
       "      <th>CustomerId</th>\n",
       "      <th>Surname</th>\n",
       "      <th>CreditScore</th>\n",
       "      <th>Geography</th>\n",
       "      <th>Gender</th>\n",
       "      <th>Age</th>\n",
       "      <th>Tenure</th>\n",
       "      <th>Balance</th>\n",
       "      <th>NumOfProducts</th>\n",
       "      <th>HasCrCard</th>\n",
       "      <th>IsActiveMember</th>\n",
       "      <th>EstimatedSalary</th>\n",
       "      <th>Exited</th>\n",
       "    </tr>\n",
       "  </thead>\n",
       "  <tbody>\n",
       "    <tr>\n",
       "      <th>8552</th>\n",
       "      <td>8553</td>\n",
       "      <td>15749345</td>\n",
       "      <td>Simpson</td>\n",
       "      <td>468</td>\n",
       "      <td>France</td>\n",
       "      <td>Female</td>\n",
       "      <td>22</td>\n",
       "      <td>1</td>\n",
       "      <td>76318.64</td>\n",
       "      <td>1</td>\n",
       "      <td>1</td>\n",
       "      <td>1</td>\n",
       "      <td>194783.12</td>\n",
       "      <td>0</td>\n",
       "    </tr>\n",
       "    <tr>\n",
       "      <th>9397</th>\n",
       "      <td>9398</td>\n",
       "      <td>15672467</td>\n",
       "      <td>Coles</td>\n",
       "      <td>766</td>\n",
       "      <td>France</td>\n",
       "      <td>Female</td>\n",
       "      <td>52</td>\n",
       "      <td>7</td>\n",
       "      <td>92510.90</td>\n",
       "      <td>2</td>\n",
       "      <td>0</td>\n",
       "      <td>1</td>\n",
       "      <td>66193.61</td>\n",
       "      <td>0</td>\n",
       "    </tr>\n",
       "    <tr>\n",
       "      <th>8110</th>\n",
       "      <td>8111</td>\n",
       "      <td>15751524</td>\n",
       "      <td>Chigozie</td>\n",
       "      <td>677</td>\n",
       "      <td>Germany</td>\n",
       "      <td>Female</td>\n",
       "      <td>36</td>\n",
       "      <td>10</td>\n",
       "      <td>68806.84</td>\n",
       "      <td>1</td>\n",
       "      <td>1</td>\n",
       "      <td>0</td>\n",
       "      <td>33075.24</td>\n",
       "      <td>0</td>\n",
       "    </tr>\n",
       "    <tr>\n",
       "      <th>7400</th>\n",
       "      <td>7401</td>\n",
       "      <td>15802071</td>\n",
       "      <td>Levi</td>\n",
       "      <td>762</td>\n",
       "      <td>Germany</td>\n",
       "      <td>Male</td>\n",
       "      <td>35</td>\n",
       "      <td>1</td>\n",
       "      <td>117458.51</td>\n",
       "      <td>1</td>\n",
       "      <td>0</td>\n",
       "      <td>1</td>\n",
       "      <td>178361.48</td>\n",
       "      <td>1</td>\n",
       "    </tr>\n",
       "    <tr>\n",
       "      <th>336</th>\n",
       "      <td>337</td>\n",
       "      <td>15740476</td>\n",
       "      <td>Tsao</td>\n",
       "      <td>659</td>\n",
       "      <td>Germany</td>\n",
       "      <td>Female</td>\n",
       "      <td>32</td>\n",
       "      <td>3</td>\n",
       "      <td>150923.74</td>\n",
       "      <td>2</td>\n",
       "      <td>0</td>\n",
       "      <td>1</td>\n",
       "      <td>174652.51</td>\n",
       "      <td>0</td>\n",
       "    </tr>\n",
       "  </tbody>\n",
       "</table>\n",
       "</div>"
      ],
      "text/plain": [
       "      RowNumber  CustomerId   Surname  CreditScore Geography  Gender  Age  \\\n",
       "8552       8553    15749345   Simpson          468    France  Female   22   \n",
       "9397       9398    15672467     Coles          766    France  Female   52   \n",
       "8110       8111    15751524  Chigozie          677   Germany  Female   36   \n",
       "7400       7401    15802071      Levi          762   Germany    Male   35   \n",
       "336         337    15740476      Tsao          659   Germany  Female   32   \n",
       "\n",
       "      Tenure    Balance  NumOfProducts  HasCrCard  IsActiveMember  \\\n",
       "8552       1   76318.64              1          1               1   \n",
       "9397       7   92510.90              2          0               1   \n",
       "8110      10   68806.84              1          1               0   \n",
       "7400       1  117458.51              1          0               1   \n",
       "336        3  150923.74              2          0               1   \n",
       "\n",
       "      EstimatedSalary  Exited  \n",
       "8552        194783.12       0  \n",
       "9397         66193.61       0  \n",
       "8110         33075.24       0  \n",
       "7400        178361.48       1  \n",
       "336         174652.51       0  "
      ]
     },
     "execution_count": 25,
     "metadata": {},
     "output_type": "execute_result"
    }
   ],
   "source": [
    "df1.sample(5)"
   ]
  },
  {
   "cell_type": "code",
   "execution_count": 26,
   "id": "9b8de3e5",
   "metadata": {},
   "outputs": [
    {
     "data": {
      "text/plain": [
       "France     5014\n",
       "Germany    2509\n",
       "Spain      2477\n",
       "Name: Geography, dtype: int64"
      ]
     },
     "execution_count": 26,
     "metadata": {},
     "output_type": "execute_result"
    }
   ],
   "source": [
    "df1[\"Geography\"].value_counts()"
   ]
  },
  {
   "cell_type": "code",
   "execution_count": 27,
   "id": "bb2b5f08",
   "metadata": {},
   "outputs": [],
   "source": [
    "# we have to replace the value of gender beacuse it is string model did not understanbd the string or object it only understand the numerical value\n",
    "df1[\"Gender\"].replace({\"Female\":0,\"Male\":1},inplace = True)"
   ]
  },
  {
   "cell_type": "code",
   "execution_count": 28,
   "id": "05ede3d8",
   "metadata": {},
   "outputs": [],
   "source": [
    "# by using pd.get_dummies we encode the column name\n",
    "df1[[\"Geography__France\",\"Geography__Germany\",\"Geography__Spain\"]]  = pd.get_dummies(df1[\"Geography\"],prefix = \"Geography_\" )"
   ]
  },
  {
   "cell_type": "code",
   "execution_count": 29,
   "id": "3c56e034",
   "metadata": {},
   "outputs": [
    {
     "data": {
      "text/html": [
       "<div>\n",
       "<style scoped>\n",
       "    .dataframe tbody tr th:only-of-type {\n",
       "        vertical-align: middle;\n",
       "    }\n",
       "\n",
       "    .dataframe tbody tr th {\n",
       "        vertical-align: top;\n",
       "    }\n",
       "\n",
       "    .dataframe thead th {\n",
       "        text-align: right;\n",
       "    }\n",
       "</style>\n",
       "<table border=\"1\" class=\"dataframe\">\n",
       "  <thead>\n",
       "    <tr style=\"text-align: right;\">\n",
       "      <th></th>\n",
       "      <th>RowNumber</th>\n",
       "      <th>CustomerId</th>\n",
       "      <th>Surname</th>\n",
       "      <th>CreditScore</th>\n",
       "      <th>Geography</th>\n",
       "      <th>Gender</th>\n",
       "      <th>Age</th>\n",
       "      <th>Tenure</th>\n",
       "      <th>Balance</th>\n",
       "      <th>NumOfProducts</th>\n",
       "      <th>HasCrCard</th>\n",
       "      <th>IsActiveMember</th>\n",
       "      <th>EstimatedSalary</th>\n",
       "      <th>Exited</th>\n",
       "      <th>Geography__France</th>\n",
       "      <th>Geography__Germany</th>\n",
       "      <th>Geography__Spain</th>\n",
       "    </tr>\n",
       "  </thead>\n",
       "  <tbody>\n",
       "    <tr>\n",
       "      <th>8373</th>\n",
       "      <td>8374</td>\n",
       "      <td>15785167</td>\n",
       "      <td>Padovano</td>\n",
       "      <td>795</td>\n",
       "      <td>Spain</td>\n",
       "      <td>1</td>\n",
       "      <td>29</td>\n",
       "      <td>4</td>\n",
       "      <td>0.0</td>\n",
       "      <td>2</td>\n",
       "      <td>0</td>\n",
       "      <td>0</td>\n",
       "      <td>155711.64</td>\n",
       "      <td>0</td>\n",
       "      <td>0</td>\n",
       "      <td>0</td>\n",
       "      <td>1</td>\n",
       "    </tr>\n",
       "    <tr>\n",
       "      <th>3911</th>\n",
       "      <td>3912</td>\n",
       "      <td>15710527</td>\n",
       "      <td>Matthews</td>\n",
       "      <td>782</td>\n",
       "      <td>France</td>\n",
       "      <td>0</td>\n",
       "      <td>35</td>\n",
       "      <td>4</td>\n",
       "      <td>0.0</td>\n",
       "      <td>1</td>\n",
       "      <td>1</td>\n",
       "      <td>1</td>\n",
       "      <td>119565.34</td>\n",
       "      <td>0</td>\n",
       "      <td>1</td>\n",
       "      <td>0</td>\n",
       "      <td>0</td>\n",
       "    </tr>\n",
       "    <tr>\n",
       "      <th>5227</th>\n",
       "      <td>5228</td>\n",
       "      <td>15725767</td>\n",
       "      <td>Milani</td>\n",
       "      <td>701</td>\n",
       "      <td>France</td>\n",
       "      <td>1</td>\n",
       "      <td>23</td>\n",
       "      <td>3</td>\n",
       "      <td>0.0</td>\n",
       "      <td>2</td>\n",
       "      <td>1</td>\n",
       "      <td>0</td>\n",
       "      <td>38960.59</td>\n",
       "      <td>0</td>\n",
       "      <td>1</td>\n",
       "      <td>0</td>\n",
       "      <td>0</td>\n",
       "    </tr>\n",
       "    <tr>\n",
       "      <th>1019</th>\n",
       "      <td>1020</td>\n",
       "      <td>15600583</td>\n",
       "      <td>Garner</td>\n",
       "      <td>633</td>\n",
       "      <td>France</td>\n",
       "      <td>1</td>\n",
       "      <td>31</td>\n",
       "      <td>1</td>\n",
       "      <td>0.0</td>\n",
       "      <td>1</td>\n",
       "      <td>1</td>\n",
       "      <td>0</td>\n",
       "      <td>48606.71</td>\n",
       "      <td>0</td>\n",
       "      <td>1</td>\n",
       "      <td>0</td>\n",
       "      <td>0</td>\n",
       "    </tr>\n",
       "    <tr>\n",
       "      <th>4627</th>\n",
       "      <td>4628</td>\n",
       "      <td>15715744</td>\n",
       "      <td>Schiavone</td>\n",
       "      <td>605</td>\n",
       "      <td>France</td>\n",
       "      <td>1</td>\n",
       "      <td>39</td>\n",
       "      <td>7</td>\n",
       "      <td>0.0</td>\n",
       "      <td>1</td>\n",
       "      <td>0</td>\n",
       "      <td>1</td>\n",
       "      <td>119348.28</td>\n",
       "      <td>0</td>\n",
       "      <td>1</td>\n",
       "      <td>0</td>\n",
       "      <td>0</td>\n",
       "    </tr>\n",
       "  </tbody>\n",
       "</table>\n",
       "</div>"
      ],
      "text/plain": [
       "      RowNumber  CustomerId    Surname  CreditScore Geography  Gender  Age  \\\n",
       "8373       8374    15785167   Padovano          795     Spain       1   29   \n",
       "3911       3912    15710527   Matthews          782    France       0   35   \n",
       "5227       5228    15725767     Milani          701    France       1   23   \n",
       "1019       1020    15600583     Garner          633    France       1   31   \n",
       "4627       4628    15715744  Schiavone          605    France       1   39   \n",
       "\n",
       "      Tenure  Balance  NumOfProducts  HasCrCard  IsActiveMember  \\\n",
       "8373       4      0.0              2          0               0   \n",
       "3911       4      0.0              1          1               1   \n",
       "5227       3      0.0              2          1               0   \n",
       "1019       1      0.0              1          1               0   \n",
       "4627       7      0.0              1          0               1   \n",
       "\n",
       "      EstimatedSalary  Exited  Geography__France  Geography__Germany  \\\n",
       "8373        155711.64       0                  0                   0   \n",
       "3911        119565.34       0                  1                   0   \n",
       "5227         38960.59       0                  1                   0   \n",
       "1019         48606.71       0                  1                   0   \n",
       "4627        119348.28       0                  1                   0   \n",
       "\n",
       "      Geography__Spain  \n",
       "8373                 1  \n",
       "3911                 0  \n",
       "5227                 0  \n",
       "1019                 0  \n",
       "4627                 0  "
      ]
     },
     "execution_count": 29,
     "metadata": {},
     "output_type": "execute_result"
    }
   ],
   "source": [
    "df1.sample(5)"
   ]
  },
  {
   "cell_type": "markdown",
   "id": "b6191f92",
   "metadata": {},
   "source": [
    "## Step-5(Feature selection)"
   ]
  },
  {
   "cell_type": "markdown",
   "id": "eb0ace45",
   "metadata": {},
   "source": [
    "We will remove those features which are not correaled with target column and which are not useful"
   ]
  },
  {
   "cell_type": "code",
   "execution_count": 30,
   "id": "d09f51f1",
   "metadata": {},
   "outputs": [],
   "source": [
    "# we have to remove row number,customer id and surname bacuse it has all unique values and they will not participating to predict the target column\n",
    "df1.drop([\"RowNumber\",\"CustomerId\",\"Surname\"],axis = 1, inplace = True)"
   ]
  },
  {
   "cell_type": "code",
   "execution_count": null,
   "id": "dcb85a90",
   "metadata": {},
   "outputs": [],
   "source": []
  },
  {
   "cell_type": "code",
   "execution_count": 31,
   "id": "5b8456f1",
   "metadata": {},
   "outputs": [],
   "source": [
    "# we will drop that feature also that we do get dummies of data\n",
    "df1.drop(\"Geography\",axis = 1,inplace = True)"
   ]
  },
  {
   "cell_type": "code",
   "execution_count": 32,
   "id": "14b56beb",
   "metadata": {},
   "outputs": [
    {
     "data": {
      "text/html": [
       "<div>\n",
       "<style scoped>\n",
       "    .dataframe tbody tr th:only-of-type {\n",
       "        vertical-align: middle;\n",
       "    }\n",
       "\n",
       "    .dataframe tbody tr th {\n",
       "        vertical-align: top;\n",
       "    }\n",
       "\n",
       "    .dataframe thead th {\n",
       "        text-align: right;\n",
       "    }\n",
       "</style>\n",
       "<table border=\"1\" class=\"dataframe\">\n",
       "  <thead>\n",
       "    <tr style=\"text-align: right;\">\n",
       "      <th></th>\n",
       "      <th>CreditScore</th>\n",
       "      <th>Gender</th>\n",
       "      <th>Age</th>\n",
       "      <th>Tenure</th>\n",
       "      <th>Balance</th>\n",
       "      <th>NumOfProducts</th>\n",
       "      <th>HasCrCard</th>\n",
       "      <th>IsActiveMember</th>\n",
       "      <th>EstimatedSalary</th>\n",
       "      <th>Exited</th>\n",
       "      <th>Geography__France</th>\n",
       "      <th>Geography__Germany</th>\n",
       "      <th>Geography__Spain</th>\n",
       "    </tr>\n",
       "  </thead>\n",
       "  <tbody>\n",
       "    <tr>\n",
       "      <th>1181</th>\n",
       "      <td>651</td>\n",
       "      <td>0</td>\n",
       "      <td>24</td>\n",
       "      <td>7</td>\n",
       "      <td>40224.70</td>\n",
       "      <td>1</td>\n",
       "      <td>1</td>\n",
       "      <td>1</td>\n",
       "      <td>178341.33</td>\n",
       "      <td>0</td>\n",
       "      <td>0</td>\n",
       "      <td>1</td>\n",
       "      <td>0</td>\n",
       "    </tr>\n",
       "    <tr>\n",
       "      <th>3380</th>\n",
       "      <td>604</td>\n",
       "      <td>0</td>\n",
       "      <td>26</td>\n",
       "      <td>3</td>\n",
       "      <td>0.00</td>\n",
       "      <td>2</td>\n",
       "      <td>1</td>\n",
       "      <td>0</td>\n",
       "      <td>155248.62</td>\n",
       "      <td>0</td>\n",
       "      <td>0</td>\n",
       "      <td>0</td>\n",
       "      <td>1</td>\n",
       "    </tr>\n",
       "    <tr>\n",
       "      <th>1086</th>\n",
       "      <td>712</td>\n",
       "      <td>1</td>\n",
       "      <td>36</td>\n",
       "      <td>2</td>\n",
       "      <td>100749.50</td>\n",
       "      <td>3</td>\n",
       "      <td>0</td>\n",
       "      <td>0</td>\n",
       "      <td>70758.37</td>\n",
       "      <td>1</td>\n",
       "      <td>1</td>\n",
       "      <td>0</td>\n",
       "      <td>0</td>\n",
       "    </tr>\n",
       "    <tr>\n",
       "      <th>2533</th>\n",
       "      <td>606</td>\n",
       "      <td>1</td>\n",
       "      <td>61</td>\n",
       "      <td>5</td>\n",
       "      <td>108166.09</td>\n",
       "      <td>2</td>\n",
       "      <td>0</td>\n",
       "      <td>1</td>\n",
       "      <td>8643.21</td>\n",
       "      <td>0</td>\n",
       "      <td>1</td>\n",
       "      <td>0</td>\n",
       "      <td>0</td>\n",
       "    </tr>\n",
       "    <tr>\n",
       "      <th>4272</th>\n",
       "      <td>640</td>\n",
       "      <td>0</td>\n",
       "      <td>34</td>\n",
       "      <td>3</td>\n",
       "      <td>77826.80</td>\n",
       "      <td>1</td>\n",
       "      <td>1</td>\n",
       "      <td>1</td>\n",
       "      <td>168544.85</td>\n",
       "      <td>0</td>\n",
       "      <td>0</td>\n",
       "      <td>0</td>\n",
       "      <td>1</td>\n",
       "    </tr>\n",
       "  </tbody>\n",
       "</table>\n",
       "</div>"
      ],
      "text/plain": [
       "      CreditScore  Gender  Age  Tenure    Balance  NumOfProducts  HasCrCard  \\\n",
       "1181          651       0   24       7   40224.70              1          1   \n",
       "3380          604       0   26       3       0.00              2          1   \n",
       "1086          712       1   36       2  100749.50              3          0   \n",
       "2533          606       1   61       5  108166.09              2          0   \n",
       "4272          640       0   34       3   77826.80              1          1   \n",
       "\n",
       "      IsActiveMember  EstimatedSalary  Exited  Geography__France  \\\n",
       "1181               1        178341.33       0                  0   \n",
       "3380               0        155248.62       0                  0   \n",
       "1086               0         70758.37       1                  1   \n",
       "2533               1          8643.21       0                  1   \n",
       "4272               1        168544.85       0                  0   \n",
       "\n",
       "      Geography__Germany  Geography__Spain  \n",
       "1181                   1                 0  \n",
       "3380                   0                 1  \n",
       "1086                   0                 0  \n",
       "2533                   0                 0  \n",
       "4272                   0                 1  "
      ]
     },
     "execution_count": 32,
     "metadata": {},
     "output_type": "execute_result"
    }
   ],
   "source": [
    "df1.sample(5)"
   ]
  },
  {
   "cell_type": "code",
   "execution_count": 33,
   "id": "13f303bc",
   "metadata": {},
   "outputs": [
    {
     "data": {
      "image/png": "[encoded data removed]",
      "text/plain": [
       "<Figure size 432x288 with 1 Axes>"
      ]
     },
     "metadata": {
      "needs_background": "light"
     },
     "output_type": "display_data"
    }
   ],
   "source": [
    "# variance inflation factor method for feature selection\n",
    "_ = df1[['CreditScore', 'Gender', 'Age', 'Tenure', 'Balance', 'HasCrCard',\"IsActiveMember\",\n",
    "       'EstimatedSalary', 'Geography__France', 'Geography__Germany',\"Geography__Spain\"]]\n",
    "vif_lst = []\n",
    "\n",
    "for i in range(_.shape[1]):\n",
    "    vif = variance_inflation_factor(_.to_numpy(),i)\n",
    "    vif_lst.append(vif)\n",
    "    \n",
    "s = pd.Series(vif_lst,_.columns)\n",
    "s.sort_values().plot(kind = \"barh\")\n",
    "plt.show()\n",
    "# here we can see that geography is highly correlated with other independent feature"
   ]
  },
  {
   "cell_type": "code",
   "execution_count": 34,
   "id": "1e07f79d",
   "metadata": {},
   "outputs": [
    {
     "data": {
      "text/plain": [
       "<AxesSubplot:>"
      ]
     },
     "execution_count": 34,
     "metadata": {},
     "output_type": "execute_result"
    },
    {
     "data": {
      "image/png": "[encoded data removed]",
      "text/plain": [
       "<Figure size 432x288 with 1 Axes>"
      ]
     },
     "metadata": {
      "needs_background": "light"
     },
     "output_type": "display_data"
    }
   ],
   "source": [
    "fisher_rank = fisher_score.fisher_score(_.to_numpy(),df1[\"Exited\"])\n",
    "s = pd.Series(fisher_rank, index = _.columns)\n",
    "s.sort_values().plot(kind = \"barh\")"
   ]
  },
  {
   "cell_type": "code",
   "execution_count": 35,
   "id": "aa009681",
   "metadata": {},
   "outputs": [
    {
     "data": {
      "text/html": [
       "<div>\n",
       "<style scoped>\n",
       "    .dataframe tbody tr th:only-of-type {\n",
       "        vertical-align: middle;\n",
       "    }\n",
       "\n",
       "    .dataframe tbody tr th {\n",
       "        vertical-align: top;\n",
       "    }\n",
       "\n",
       "    .dataframe thead th {\n",
       "        text-align: right;\n",
       "    }\n",
       "</style>\n",
       "<table border=\"1\" class=\"dataframe\">\n",
       "  <thead>\n",
       "    <tr style=\"text-align: right;\">\n",
       "      <th></th>\n",
       "      <th>Chi2</th>\n",
       "      <th>P_val</th>\n",
       "    </tr>\n",
       "  </thead>\n",
       "  <tbody>\n",
       "    <tr>\n",
       "      <th>Gender</th>\n",
       "      <td>51.54</td>\n",
       "      <td>0.00</td>\n",
       "    </tr>\n",
       "    <tr>\n",
       "      <th>Tenure</th>\n",
       "      <td>3.27</td>\n",
       "      <td>0.07</td>\n",
       "    </tr>\n",
       "    <tr>\n",
       "      <th>HasCrCard</th>\n",
       "      <td>0.15</td>\n",
       "      <td>0.70</td>\n",
       "    </tr>\n",
       "    <tr>\n",
       "      <th>IsActiveMember</th>\n",
       "      <td>118.20</td>\n",
       "      <td>0.00</td>\n",
       "    </tr>\n",
       "    <tr>\n",
       "      <th>Geography__France</th>\n",
       "      <td>54.92</td>\n",
       "      <td>0.00</td>\n",
       "    </tr>\n",
       "    <tr>\n",
       "      <th>Geography__Germany</th>\n",
       "      <td>225.46</td>\n",
       "      <td>0.00</td>\n",
       "    </tr>\n",
       "    <tr>\n",
       "      <th>Geography__Spain</th>\n",
       "      <td>20.87</td>\n",
       "      <td>0.00</td>\n",
       "    </tr>\n",
       "  </tbody>\n",
       "</table>\n",
       "</div>"
      ],
      "text/plain": [
       "                      Chi2  P_val\n",
       "Gender               51.54   0.00\n",
       "Tenure                3.27   0.07\n",
       "HasCrCard             0.15   0.70\n",
       "IsActiveMember      118.20   0.00\n",
       "Geography__France    54.92   0.00\n",
       "Geography__Germany  225.46   0.00\n",
       "Geography__Spain     20.87   0.00"
      ]
     },
     "execution_count": 35,
     "metadata": {},
     "output_type": "execute_result"
    }
   ],
   "source": [
    "# chi2 method for feature selection\n",
    "_temp = df1[['Gender', 'Tenure', 'HasCrCard', 'IsActiveMember', 'Geography__France',\n",
    "        'Geography__Germany', 'Geography__Spain']]\n",
    "chi, p_val = chi2(_temp,df1[\"Exited\"])\n",
    "s = pd.DataFrame({\"Chi2\":np.around(chi,2), \"P_val\": np.around(p_val,2)}, index = _temp.columns)\n",
    "s"
   ]
  },
  {
   "cell_type": "code",
   "execution_count": 36,
   "id": "26c6123e",
   "metadata": {},
   "outputs": [
    {
     "data": {
      "text/plain": [
       "CreditScore           True\n",
       "Gender                True\n",
       "Age                   True\n",
       "Tenure                True\n",
       "Balance               True\n",
       "HasCrCard             True\n",
       "IsActiveMember        True\n",
       "EstimatedSalary       True\n",
       "Geography__France     True\n",
       "Geography__Germany    True\n",
       "Geography__Spain      True\n",
       "dtype: bool"
      ]
     },
     "execution_count": 36,
     "metadata": {},
     "output_type": "execute_result"
    }
   ],
   "source": [
    "# variance threshold method for checking the faetures\n",
    "var_th = VarianceThreshold(threshold = 0.0)\n",
    "var_th.fit_transform(_)\n",
    "s = pd.Series(var_th.get_support(),index = _.columns)\n",
    "s"
   ]
  },
  {
   "cell_type": "code",
   "execution_count": 37,
   "id": "3636b644",
   "metadata": {},
   "outputs": [
    {
     "data": {
      "text/html": [
       "<div>\n",
       "<style scoped>\n",
       "    .dataframe tbody tr th:only-of-type {\n",
       "        vertical-align: middle;\n",
       "    }\n",
       "\n",
       "    .dataframe tbody tr th {\n",
       "        vertical-align: top;\n",
       "    }\n",
       "\n",
       "    .dataframe thead th {\n",
       "        text-align: right;\n",
       "    }\n",
       "</style>\n",
       "<table border=\"1\" class=\"dataframe\">\n",
       "  <thead>\n",
       "    <tr style=\"text-align: right;\">\n",
       "      <th></th>\n",
       "      <th>F_Val</th>\n",
       "      <th>P_val</th>\n",
       "    </tr>\n",
       "  </thead>\n",
       "  <tbody>\n",
       "    <tr>\n",
       "      <th>Age</th>\n",
       "      <td>886.06</td>\n",
       "      <td>0.00</td>\n",
       "    </tr>\n",
       "    <tr>\n",
       "      <th>Balance</th>\n",
       "      <td>142.47</td>\n",
       "      <td>0.00</td>\n",
       "    </tr>\n",
       "    <tr>\n",
       "      <th>CreditScore</th>\n",
       "      <td>7.34</td>\n",
       "      <td>0.01</td>\n",
       "    </tr>\n",
       "    <tr>\n",
       "      <th>EstimatedSalary</th>\n",
       "      <td>1.46</td>\n",
       "      <td>0.23</td>\n",
       "    </tr>\n",
       "  </tbody>\n",
       "</table>\n",
       "</div>"
      ],
      "text/plain": [
       "                  F_Val  P_val\n",
       "Age              886.06   0.00\n",
       "Balance          142.47   0.00\n",
       "CreditScore        7.34   0.01\n",
       "EstimatedSalary    1.46   0.23"
      ]
     },
     "execution_count": 37,
     "metadata": {},
     "output_type": "execute_result"
    }
   ],
   "source": [
    "_temp = df1[['Age', 'Balance', 'CreditScore', 'EstimatedSalary']]\n",
    "f_val,p_val = f_classif(_temp,df1[\"Exited\"])\n",
    "pd.DataFrame({\"F_Val\": np.around(f_val,2), \"P_val\": np.around(p_val,2)},index = _temp.columns)"
   ]
  },
  {
   "cell_type": "markdown",
   "id": "29a33d19",
   "metadata": {},
   "source": [
    "based upon this we can go for all the fatures "
   ]
  },
  {
   "cell_type": "markdown",
   "id": "e48ea2c2",
   "metadata": {},
   "source": [
    "## Step-6(Model-Selection)"
   ]
  },
  {
   "cell_type": "code",
   "execution_count": 38,
   "id": "b562f66e",
   "metadata": {},
   "outputs": [],
   "source": [
    "x = df1.drop(\"Exited\",axis = 1)\n",
    "y = df1[\"Exited\"]"
   ]
  },
  {
   "cell_type": "code",
   "execution_count": 39,
   "id": "2a54b7d5",
   "metadata": {},
   "outputs": [],
   "source": [
    "sm = SMOTE(sampling_strategy=0.75)\n",
    "x1,y1 = sm.fit_resample(x,y)"
   ]
  },
  {
   "cell_type": "code",
   "execution_count": 40,
   "id": "e611ca75",
   "metadata": {},
   "outputs": [],
   "source": [
    "x_train,x_test,y_train,y_test = train_test_split(x1,y1, test_size = 0.2 ,random_state = 45,stratify = y1)"
   ]
  },
  {
   "cell_type": "code",
   "execution_count": 41,
   "id": "3c63bc36",
   "metadata": {},
   "outputs": [],
   "source": [
    "scl = StandardScaler()\n",
    "arr = scl.fit_transform(x_train)\n",
    "x1_train  = pd.DataFrame(arr, columns = x_train.columns)"
   ]
  },
  {
   "cell_type": "code",
   "execution_count": 42,
   "id": "8b261099",
   "metadata": {},
   "outputs": [],
   "source": [
    "x1_test = scl.transform(x_test)"
   ]
  },
  {
   "cell_type": "markdown",
   "id": "03b78503",
   "metadata": {},
   "source": [
    "## Step-7(Model Training)"
   ]
  },
  {
   "cell_type": "code",
   "execution_count": 43,
   "id": "5cb45854",
   "metadata": {},
   "outputs": [],
   "source": [
    "def get_accuracy(model_name):\n",
    "    model         = model_name\n",
    "    model.fit(x1_train,y_train)\n",
    "    y_pred_train  = model.predict(x1_train)\n",
    "    ac_score_tr   = accuracy_score(y_train,y_pred_train)\n",
    "    conf_mT_tr    = confusion_matrix(y_train,y_pred_train)\n",
    "    cls_report_tr = classification_report(y_train,y_pred_train)\n",
    "    \n",
    "    y_pred_test   = model.predict(x1_test)\n",
    "    ac_score_te   = accuracy_score(y_test,y_pred_test)\n",
    "    conf_mT_te    = confusion_matrix(y_test,y_pred_test)\n",
    "    cls_report_te = classification_report(y_test,y_pred_test)\n",
    "    \n",
    "    return print(f\"ac_score_tr\\n {ac_score_tr} conf_mT_tr\\n {conf_mT_tr} cls_report_tr\\n {cls_report_tr} ac_score_te\\n {ac_score_te} conf_mT_te\\n {conf_mT_te} cls_report_te\\n {cls_report_te}\")"
   ]
  },
  {
   "cell_type": "code",
   "execution_count": 44,
   "id": "378cb793",
   "metadata": {
    "scrolled": false
   },
   "outputs": [
    {
     "name": "stdout",
     "output_type": "stream",
     "text": [
      "LogisticRegression\n",
      "ac_score_tr\n",
      " 0.8160208109077861 conf_mT_tr\n",
      " [[5656  714]\n",
      " [1337 3441]] cls_report_tr\n",
      "               precision    recall  f1-score   support\n",
      "\n",
      "           0       0.81      0.89      0.85      6370\n",
      "           1       0.83      0.72      0.77      4778\n",
      "\n",
      "    accuracy                           0.82     11148\n",
      "   macro avg       0.82      0.80      0.81     11148\n",
      "weighted avg       0.82      0.82      0.81     11148\n",
      " ac_score_te\n",
      " 0.8012199497667744 conf_mT_te\n",
      " [[1388  205]\n",
      " [ 349  845]] cls_report_te\n",
      "               precision    recall  f1-score   support\n",
      "\n",
      "           0       0.80      0.87      0.83      1593\n",
      "           1       0.80      0.71      0.75      1194\n",
      "\n",
      "    accuracy                           0.80      2787\n",
      "   macro avg       0.80      0.79      0.79      2787\n",
      "weighted avg       0.80      0.80      0.80      2787\n",
      "\n",
      "None\n",
      "****************************************************************************************************\n",
      "DecisionTreeClassifier\n",
      "ac_score_tr\n",
      " 1.0 conf_mT_tr\n",
      " [[6370    0]\n",
      " [   0 4778]] cls_report_tr\n",
      "               precision    recall  f1-score   support\n",
      "\n",
      "           0       1.00      1.00      1.00      6370\n",
      "           1       1.00      1.00      1.00      4778\n",
      "\n",
      "    accuracy                           1.00     11148\n",
      "   macro avg       1.00      1.00      1.00     11148\n",
      "weighted avg       1.00      1.00      1.00     11148\n",
      " ac_score_te\n",
      " 0.7990670972371726 conf_mT_te\n",
      " [[1296  297]\n",
      " [ 263  931]] cls_report_te\n",
      "               precision    recall  f1-score   support\n",
      "\n",
      "           0       0.83      0.81      0.82      1593\n",
      "           1       0.76      0.78      0.77      1194\n",
      "\n",
      "    accuracy                           0.80      2787\n",
      "   macro avg       0.79      0.80      0.80      2787\n",
      "weighted avg       0.80      0.80      0.80      2787\n",
      "\n",
      "None\n",
      "****************************************************************************************************\n",
      "RandomForestClassifier\n",
      "ac_score_tr\n",
      " 1.0 conf_mT_tr\n",
      " [[6370    0]\n",
      " [   0 4778]] cls_report_tr\n",
      "               precision    recall  f1-score   support\n",
      "\n",
      "           0       1.00      1.00      1.00      6370\n",
      "           1       1.00      1.00      1.00      4778\n",
      "\n",
      "    accuracy                           1.00     11148\n",
      "   macro avg       1.00      1.00      1.00     11148\n",
      "weighted avg       1.00      1.00      1.00     11148\n",
      " ac_score_te\n",
      " 0.8679583781844277 conf_mT_te\n",
      " [[1429  164]\n",
      " [ 204  990]] cls_report_te\n",
      "               precision    recall  f1-score   support\n",
      "\n",
      "           0       0.88      0.90      0.89      1593\n",
      "           1       0.86      0.83      0.84      1194\n",
      "\n",
      "    accuracy                           0.87      2787\n",
      "   macro avg       0.87      0.86      0.86      2787\n",
      "weighted avg       0.87      0.87      0.87      2787\n",
      "\n",
      "None\n",
      "****************************************************************************************************\n",
      "XGBClassifier\n",
      "ac_score_tr\n",
      " 0.9566738428417654 conf_mT_tr\n",
      " [[6212  158]\n",
      " [ 325 4453]] cls_report_tr\n",
      "               precision    recall  f1-score   support\n",
      "\n",
      "           0       0.95      0.98      0.96      6370\n",
      "           1       0.97      0.93      0.95      4778\n",
      "\n",
      "    accuracy                           0.96     11148\n",
      "   macro avg       0.96      0.95      0.96     11148\n",
      "weighted avg       0.96      0.96      0.96     11148\n",
      " ac_score_te\n",
      " 0.8625762468604234 conf_mT_te\n",
      " [[1422  171]\n",
      " [ 212  982]] cls_report_te\n",
      "               precision    recall  f1-score   support\n",
      "\n",
      "           0       0.87      0.89      0.88      1593\n",
      "           1       0.85      0.82      0.84      1194\n",
      "\n",
      "    accuracy                           0.86      2787\n",
      "   macro avg       0.86      0.86      0.86      2787\n",
      "weighted avg       0.86      0.86      0.86      2787\n",
      "\n",
      "None\n",
      "****************************************************************************************************\n",
      "KNeighborsClassifier\n",
      "ac_score_tr\n",
      " 0.8821313240043057 conf_mT_tr\n",
      " [[5842  528]\n",
      " [ 786 3992]] cls_report_tr\n",
      "               precision    recall  f1-score   support\n",
      "\n",
      "           0       0.88      0.92      0.90      6370\n",
      "           1       0.88      0.84      0.86      4778\n",
      "\n",
      "    accuracy                           0.88     11148\n",
      "   macro avg       0.88      0.88      0.88     11148\n",
      "weighted avg       0.88      0.88      0.88     11148\n",
      " ac_score_te\n",
      " 0.8385360602798708 conf_mT_te\n",
      " [[1387  206]\n",
      " [ 244  950]] cls_report_te\n",
      "               precision    recall  f1-score   support\n",
      "\n",
      "           0       0.85      0.87      0.86      1593\n",
      "           1       0.82      0.80      0.81      1194\n",
      "\n",
      "    accuracy                           0.84      2787\n",
      "   macro avg       0.84      0.83      0.83      2787\n",
      "weighted avg       0.84      0.84      0.84      2787\n",
      "\n",
      "None\n",
      "****************************************************************************************************\n",
      "svc\n",
      "ac_score_tr\n",
      " 0.8693936132041622 conf_mT_tr\n",
      " [[5918  452]\n",
      " [1004 3774]] cls_report_tr\n",
      "               precision    recall  f1-score   support\n",
      "\n",
      "           0       0.85      0.93      0.89      6370\n",
      "           1       0.89      0.79      0.84      4778\n",
      "\n",
      "    accuracy                           0.87     11148\n",
      "   macro avg       0.87      0.86      0.86     11148\n",
      "weighted avg       0.87      0.87      0.87     11148\n",
      " ac_score_te\n",
      " 0.852529601722282 conf_mT_te\n",
      " [[1449  144]\n",
      " [ 267  927]] cls_report_te\n",
      "               precision    recall  f1-score   support\n",
      "\n",
      "           0       0.84      0.91      0.88      1593\n",
      "           1       0.87      0.78      0.82      1194\n",
      "\n",
      "    accuracy                           0.85      2787\n",
      "   macro avg       0.85      0.84      0.85      2787\n",
      "weighted avg       0.85      0.85      0.85      2787\n",
      "\n",
      "None\n",
      "****************************************************************************************************\n",
      "AdaBoostClassifier\n",
      "ac_score_tr\n",
      " 0.8507355579476139 conf_mT_tr\n",
      " [[5660  710]\n",
      " [ 954 3824]] cls_report_tr\n",
      "               precision    recall  f1-score   support\n",
      "\n",
      "           0       0.86      0.89      0.87      6370\n",
      "           1       0.84      0.80      0.82      4778\n",
      "\n",
      "    accuracy                           0.85     11148\n",
      "   macro avg       0.85      0.84      0.85     11148\n",
      "weighted avg       0.85      0.85      0.85     11148\n",
      " ac_score_te\n",
      " 0.843200574094008 conf_mT_te\n",
      " [[1398  195]\n",
      " [ 242  952]] cls_report_te\n",
      "               precision    recall  f1-score   support\n",
      "\n",
      "           0       0.85      0.88      0.86      1593\n",
      "           1       0.83      0.80      0.81      1194\n",
      "\n",
      "    accuracy                           0.84      2787\n",
      "   macro avg       0.84      0.84      0.84      2787\n",
      "weighted avg       0.84      0.84      0.84      2787\n",
      "\n",
      "None\n",
      "****************************************************************************************************\n"
     ]
    }
   ],
   "source": [
    "for model_name,model in [(\"LogisticRegression\",LogisticRegression()),(\"DecisionTreeClassifier\",DecisionTreeClassifier()),(\"RandomForestClassifier\",RandomForestClassifier()),(\"XGBClassifier\",XGBClassifier()),\n",
    "                         (\"KNeighborsClassifier\",KNeighborsClassifier()),(\"svc\",SVC()),(\"AdaBoostClassifier\",AdaBoostClassifier())]:\n",
    "    print(model_name)\n",
    "    print(get_accuracy(model))\n",
    "    print(\"*\"*100)"
   ]
  },
  {
   "cell_type": "markdown",
   "id": "05b12b75",
   "metadata": {},
   "source": [
    "## Step-8(Model evaluation)\n",
    "                            "
   ]
  },
  {
   "cell_type": "code",
   "execution_count": 45,
   "id": "f8c09bfc",
   "metadata": {},
   "outputs": [
    {
     "data": {
      "text/html": [
       "<style>#sk-container-id-1 {color: black;background-color: white;}#sk-container-id-1 pre{padding: 0;}#sk-container-id-1 div.sk-toggleable {background-color: white;}#sk-container-id-1 label.sk-toggleable__label {cursor: pointer;display: block;width: 100%;margin-bottom: 0;padding: 0.3em;box-sizing: border-box;text-align: center;}#sk-container-id-1 label.sk-toggleable__label-arrow:before {content: \"▸\";float: left;margin-right: 0.25em;color: #696969;}#sk-container-id-1 label.sk-toggleable__label-arrow:hover:before {color: black;}#sk-container-id-1 div.sk-estimator:hover label.sk-toggleable__label-arrow:before {color: black;}#sk-container-id-1 div.sk-toggleable__content {max-height: 0;max-width: 0;overflow: hidden;text-align: left;background-color: #f0f8ff;}#sk-container-id-1 div.sk-toggleable__content pre {margin: 0.2em;color: black;border-radius: 0.25em;background-color: #f0f8ff;}#sk-container-id-1 input.sk-toggleable__control:checked~div.sk-toggleable__content {max-height: 200px;max-width: 100%;overflow: auto;}#sk-container-id-1 input.sk-toggleable__control:checked~label.sk-toggleable__label-arrow:before {content: \"▾\";}#sk-container-id-1 div.sk-estimator input.sk-toggleable__control:checked~label.sk-toggleable__label {background-color: #d4ebff;}#sk-container-id-1 div.sk-label input.sk-toggleable__control:checked~label.sk-toggleable__label {background-color: #d4ebff;}#sk-container-id-1 input.sk-hidden--visually {border: 0;clip: rect(1px 1px 1px 1px);clip: rect(1px, 1px, 1px, 1px);height: 1px;margin: -1px;overflow: hidden;padding: 0;position: absolute;width: 1px;}#sk-container-id-1 div.sk-estimator {font-family: monospace;background-color: #f0f8ff;border: 1px dotted black;border-radius: 0.25em;box-sizing: border-box;margin-bottom: 0.5em;}#sk-container-id-1 div.sk-estimator:hover {background-color: #d4ebff;}#sk-container-id-1 div.sk-parallel-item::after {content: \"\";width: 100%;border-bottom: 1px solid gray;flex-grow: 1;}#sk-container-id-1 div.sk-label:hover label.sk-toggleable__label {background-color: #d4ebff;}#sk-container-id-1 div.sk-serial::before {content: \"\";position: absolute;border-left: 1px solid gray;box-sizing: border-box;top: 0;bottom: 0;left: 50%;z-index: 0;}#sk-container-id-1 div.sk-serial {display: flex;flex-direction: column;align-items: center;background-color: white;padding-right: 0.2em;padding-left: 0.2em;position: relative;}#sk-container-id-1 div.sk-item {position: relative;z-index: 1;}#sk-container-id-1 div.sk-parallel {display: flex;align-items: stretch;justify-content: center;background-color: white;position: relative;}#sk-container-id-1 div.sk-item::before, #sk-container-id-1 div.sk-parallel-item::before {content: \"\";position: absolute;border-left: 1px solid gray;box-sizing: border-box;top: 0;bottom: 0;left: 50%;z-index: -1;}#sk-container-id-1 div.sk-parallel-item {display: flex;flex-direction: column;z-index: 1;position: relative;background-color: white;}#sk-container-id-1 div.sk-parallel-item:first-child::after {align-self: flex-end;width: 50%;}#sk-container-id-1 div.sk-parallel-item:last-child::after {align-self: flex-start;width: 50%;}#sk-container-id-1 div.sk-parallel-item:only-child::after {width: 0;}#sk-container-id-1 div.sk-dashed-wrapped {border: 1px dashed gray;margin: 0 0.4em 0.5em 0.4em;box-sizing: border-box;padding-bottom: 0.4em;background-color: white;}#sk-container-id-1 div.sk-label label {font-family: monospace;font-weight: bold;display: inline-block;line-height: 1.2em;}#sk-container-id-1 div.sk-label-container {text-align: center;}#sk-container-id-1 div.sk-container {/* jupyter's `normalize.less` sets `[hidden] { display: none; }` but bootstrap.min.css set `[hidden] { display: none !important; }` so we also need the `!important` here to be able to override the default hidden behavior on the sphinx rendered scikit-learn.org. See: https://github.com/scikit-learn/scikit-learn/issues/21755 */display: inline-block !important;position: relative;}#sk-container-id-1 div.sk-text-repr-fallback {display: none;}</style><div id=\"sk-container-id-1\" class=\"sk-top-container\"><div class=\"sk-text-repr-fallback\"><pre>SVC()</pre><b>In a Jupyter environment, please rerun this cell to show the HTML representation or trust the notebook. <br />On GitHub, the HTML representation is unable to render, please try loading this page with nbviewer.org.</b></div><div class=\"sk-container\" hidden><div class=\"sk-item\"><div class=\"sk-estimator sk-toggleable\"><input class=\"sk-toggleable__control sk-hidden--visually\" id=\"sk-estimator-id-1\" type=\"checkbox\" checked><label for=\"sk-estimator-id-1\" class=\"sk-toggleable__label sk-toggleable__label-arrow\">SVC</label><div class=\"sk-toggleable__content\"><pre>SVC()</pre></div></div></div></div></div>"
      ],
      "text/plain": [
       "SVC()"
      ]
     },
     "execution_count": 45,
     "metadata": {},
     "output_type": "execute_result"
    }
   ],
   "source": [
    "# as we seen that support vector machine gives best accuracy no underfittion and overfitting problem occur\n",
    "svm = SVC()\n",
    "svm.fit(x1_train,y_train)"
   ]
  },
  {
   "cell_type": "code",
   "execution_count": 46,
   "id": "d4082293",
   "metadata": {},
   "outputs": [
    {
     "name": "stdout",
     "output_type": "stream",
     "text": [
      "ac_score_tr 0.8693936132041622\n",
      "conf_mT_tr\n",
      " [[5918  452]\n",
      " [1004 3774]]\n",
      "cls_report_tr\n",
      "               precision    recall  f1-score   support\n",
      "\n",
      "           0       0.85      0.93      0.89      6370\n",
      "           1       0.89      0.79      0.84      4778\n",
      "\n",
      "    accuracy                           0.87     11148\n",
      "   macro avg       0.87      0.86      0.86     11148\n",
      "weighted avg       0.87      0.87      0.87     11148\n",
      "\n"
     ]
    }
   ],
   "source": [
    "# for finding the accruracy of training \n",
    "y_pred_train  = svm.predict(x1_train)\n",
    "ac_score_tr   = accuracy_score(y_train,y_pred_train)\n",
    "print(\"ac_score_tr\",ac_score_tr)\n",
    "conf_mT_tr    = confusion_matrix(y_train,y_pred_train)\n",
    "print(\"conf_mT_tr\\n\",conf_mT_tr)\n",
    "cls_report_tr = classification_report(y_train,y_pred_train)\n",
    "print(\"cls_report_tr\\n\",cls_report_tr)"
   ]
  },
  {
   "cell_type": "code",
   "execution_count": 47,
   "id": "4a650ce0",
   "metadata": {},
   "outputs": [
    {
     "name": "stdout",
     "output_type": "stream",
     "text": [
      "ac_score_te 0.852529601722282\n",
      "conf_mT_te\n",
      " [[1449  144]\n",
      " [ 267  927]]\n",
      "cls_report_te\n",
      "               precision    recall  f1-score   support\n",
      "\n",
      "           0       0.84      0.91      0.88      1593\n",
      "           1       0.87      0.78      0.82      1194\n",
      "\n",
      "    accuracy                           0.85      2787\n",
      "   macro avg       0.85      0.84      0.85      2787\n",
      "weighted avg       0.85      0.85      0.85      2787\n",
      "\n"
     ]
    }
   ],
   "source": [
    "# Testing accuracy\n",
    "y_pred_test   = svm.predict(x1_test)\n",
    "ac_score_te   = accuracy_score(y_test,y_pred_test)\n",
    "print(\"ac_score_te\",ac_score_te)\n",
    "conf_mT_te    = confusion_matrix(y_test,y_pred_test)\n",
    "print(\"conf_mT_te\\n\",conf_mT_te)\n",
    "cls_report_te = classification_report(y_test,y_pred_test)\n",
    "print(\"cls_report_te\\n\",cls_report_te)"
   ]
  },
  {
   "cell_type": "markdown",
   "id": "3d392cbd",
   "metadata": {},
   "source": [
    "## Step-9 (Model deployment)"
   ]
  },
  {
   "cell_type": "code",
   "execution_count": 48,
   "id": "adc5a72c",
   "metadata": {},
   "outputs": [
    {
     "data": {
      "text/plain": [
       "Index(['CreditScore', 'Gender', 'Age', 'Tenure', 'Balance', 'NumOfProducts',\n",
       "       'HasCrCard', 'IsActiveMember', 'EstimatedSalary', 'Geography__France',\n",
       "       'Geography__Germany', 'Geography__Spain'],\n",
       "      dtype='object')"
      ]
     },
     "execution_count": 48,
     "metadata": {},
     "output_type": "execute_result"
    }
   ],
   "source": [
    "x1_train.columns"
   ]
  },
  {
   "cell_type": "code",
   "execution_count": 49,
   "id": "fb279f44",
   "metadata": {},
   "outputs": [],
   "source": [
    "column_list = {\"columns\":list(x1_train.columns),\n",
    "               \"Gender\":{\"Female\":0,\"Male\":1}}"
   ]
  },
  {
   "cell_type": "code",
   "execution_count": 50,
   "id": "85f735ff",
   "metadata": {},
   "outputs": [],
   "source": [
    "# export model file\n",
    "with open (\"model.pkl\",\"wb\") as f:\n",
    "    pickle.dump(svm,f)"
   ]
  },
  {
   "cell_type": "code",
   "execution_count": 51,
   "id": "6a7d6a23",
   "metadata": {},
   "outputs": [],
   "source": [
    "# export scaling file\n",
    "with open (\"scaling.pkl\", \"wb\") as f:\n",
    "    pickle.dump(scl,f)"
   ]
  },
  {
   "cell_type": "code",
   "execution_count": 52,
   "id": "07a8e8dd",
   "metadata": {},
   "outputs": [],
   "source": [
    "# exporting the column names\n",
    "with open (\"column.json\",\"w\") as f:\n",
    "    json.dump(column_list,f)"
   ]
  }
 ],
 "metadata": {
  "kernelspec": {
   "display_name": "Python 3 (ipykernel)",
   "language": "python",
   "name": "python3"
  },
  "language_info": {
   "codemirror_mode": {
    "name": "ipython",
    "version": 3
   },
   "file_extension": ".py",
   "mimetype": "text/x-python",
   "name": "python",
   "nbconvert_exporter": "python",
   "pygments_lexer": "ipython3",
   "version": "3.10.4"
  }
 },
 "nbformat": 4,
 "nbformat_minor": 5
}
